{
 "cells": [
  {
   "cell_type": "code",
   "execution_count": 1,
   "id": "6f28d85a-3b34-48eb-8139-bc3f1c29e004",
   "metadata": {},
   "outputs": [],
   "source": [
    "from playwright.async_api import async_playwright\n",
    "playwright = await async_playwright().start()\n",
    "browser = await playwright.chromium.launch(headless = False)\n",
    "page = await browser.new_page()"
   ]
  },
  {
   "cell_type": "code",
   "execution_count": 3,
   "id": "3df1e81e-8ddc-411e-9546-8b8ba7976787",
   "metadata": {},
   "outputs": [
    {
     "data": {
      "text/plain": [
       "['eternal%20sunshine%20of%20the%20spotless%20mind', 'spirited%20away']"
      ]
     },
     "execution_count": 3,
     "metadata": {},
     "output_type": "execute_result"
    }
   ],
   "source": [
    "#outside loop\n",
    "head={'User-Agent': 'Mozilla/5.0 (Windows NT 10.0; Win64; x64) AppleWebKit/537.36 (KHTML, like Gecko) Chrome/102.0.0.0 Safari/537.36'}\n",
    "# e.g. film = 'Eternal Sunshine of the Spotless Mind'\n",
    "movie_names = ['Eternal Sunshine of the Spotless Mind', 'Spirited Away']\n",
    "# the list should be the one in the list of dics movie_info['Movie'] \n",
    "formatted_movies = []\n",
    "#modified in loop\n",
    "for movie in movie_names:\n",
    "    formatted_movie = \"%20\".join(movie.lower().split())\n",
    "    formatted_movies.append(formatted_movie)\n",
    "formatted_movies"
   ]
  },
  {
   "cell_type": "code",
   "execution_count": 10,
   "id": "de8d2b24-9e92-486a-921f-ef6eef514ece",
   "metadata": {},
   "outputs": [],
   "source": [
    "import requests\n",
    "import re\n",
    "import time\n",
    "from bs4 import BeautifulSoup"
   ]
  },
  {
   "cell_type": "code",
   "execution_count": 65,
   "id": "71424a89-3871-44aa-9a57-c89a168f8ee5",
   "metadata": {},
   "outputs": [
    {
     "data": {
      "text/plain": [
       "[{'movie': 'eternal sunshine of the spotless mind',\n",
       "  'link': '/title/tt0338013/?ref_=sr_t_1'},\n",
       " {'movie': 'spirited away', 'link': '/title/tt0245429/?ref_=sr_t_1'}]"
      ]
     },
     "execution_count": 65,
     "metadata": {},
     "output_type": "execute_result"
    }
   ],
   "source": [
    "movie_links = []\n",
    "for formatted_url in formatted_movies:\n",
    "    search_url = \"https://www.imdb.com/search/title/?title=\" + formatted_url + \"&title_type=feature\"\n",
    "    raw_html = requests.get(search_url, headers=head).content\n",
    "    time.sleep(2)\n",
    "    soup_doc = BeautifulSoup(raw_html, \"html.parser\")\n",
    "    movie_name = formatted_url.replace(\"%20\", \" \")  # Convert back to original movie name\n",
    "    page_link_element = soup_doc.find(class_=\"sc-43986a27-0 gUQEVh\").a\n",
    "    if page_link_element:\n",
    "        page_link = page_link_element.get('href')\n",
    "        movie_link_dic = {\n",
    "            'movie': movie_name,\n",
    "            'link': page_link\n",
    "        }\n",
    "        movie_links.append(movie_link_dic)\n",
    "movie_links\n",
    "#once you get the link, you want to put it in a list of dict: movie_name and link"
   ]
  },
  {
   "cell_type": "code",
   "execution_count": 204,
   "id": "9427da89-83f1-42b6-97ac-816b94421117",
   "metadata": {},
   "outputs": [],
   "source": [
    "#step 2: loop through your list of dicts and go to the links:\n",
    "budget_list = []\n",
    "gross_ww_list = []\n",
    "runtime_list = []\n",
    "rating_list = []\n",
    "for movie in movie_links:\n",
    "    link = movie['link']\n",
    "    movie_name = movie['movie']\n",
    "    full_link = \"https://www.imdb.com/\"+link\n",
    "    raw_html = requests.get(full_link, headers=head).content\n",
    "    # Process raw_html here as needed, you have the HTML content of each page\n",
    "    time.sleep(2)\n",
    "    soup_doc = BeautifulSoup(raw_html, \"html.parser\")\n",
    "    # look for budget\n",
    "    budget_element = soup_doc.find_all('span', class_='ipc-metadata-list-item__list-content-item')[2].get_text(strip=True)\n",
    "    regex_for_budget = r\"(\\d+,\\d+,\\d+[,\\d+]?)\"\n",
    "    budget = re.findall(regex_for_budget,budget_element)\n",
    "    # look for gross_ww\n",
    "    gross_ww_element = soup_doc.find_all('span', class_='ipc-metadata-list-item__list-content-item')[6].get_text(strip=True)\n",
    "    regex_for_gross_ww = r\"(\\d+,\\d+,\\d+[,\\d+]?)\"\n",
    "    gross_ww = re.findall(regex_for_gross_ww,gross_ww_element)\n",
    "    # look for runtime\n",
    "    runtime = soup_doc.find_all('li', class_='ipc-inline-list__item')[6].get_text(strip=True)\n",
    "    # look for IMDb rating\n",
    "    rating = soup_doc.find_all('span', class_='sc-bde20123-1 cMEQkK') [0].get_text(strip=True)\n",
    "    # look for Genres\n",
    "    \n",
    "    # append all elements\n",
    "    budget_list.append(budget)\n",
    "    gross_ww_list.append(gross_ww)\n",
    "    runtime_list.append(runtime)\n",
    "    rating_list.append(rating)"
   ]
  },
  {
   "cell_type": "code",
   "execution_count": 200,
   "id": "b890f298-0a6b-49d8-b68f-e8b0cc5e9895",
   "metadata": {},
   "outputs": [],
   "source": [
    "# soup_doc.find_all('a', class_=\"ipc-metadata-list-item__list-content-item ipc-metadata-list-item__list-content-item--link\")[0].get_text(strip=True)\n",
    "#     text = element.get_text(strip=True)\n",
    "#     print(text)\n",
    "# ipc-metadata-list-item__list-content-item ipc-metadata-list-item__list-content-item--link\n",
    "# Extracting text from the <a> tags\n",
    "# Filter the genres containing Drama, Romance, and Sci-Fi\n",
    "# filtered_genres = [genre for genre in genres if genre in ['Drama', 'Romance', 'Sci-Fi']]\n",
    "# print(filtered_genres) "
   ]
  },
  {
   "cell_type": "code",
   "execution_count": null,
   "id": "2b483d37-6e1e-4e01-b4a3-9b5ddd30517d",
   "metadata": {},
   "outputs": [],
   "source": []
  },
  {
   "cell_type": "code",
   "execution_count": 223,
   "id": "4d0548e2-fec0-4cff-8032-f6fce871ca3b",
   "metadata": {},
   "outputs": [
    {
     "data": {
      "text/plain": [
       "[{'movie': 'spirited away',\n",
       "  'budget': ['20,000,000'],\n",
       "  'gross_ww': ['357,287,850'],\n",
       "  'runtime': '2h 5m',\n",
       "  'rating': '8.6'},\n",
       " {'movie': 'spirited away',\n",
       "  'budget': ['19,000,000'],\n",
       "  'gross_ww': ['357,287,850'],\n",
       "  'runtime': '2h 5m',\n",
       "  'rating': '8.6'}]"
      ]
     },
     "execution_count": 223,
     "metadata": {},
     "output_type": "execute_result"
    }
   ],
   "source": [
    "movie_details = []\n",
    "for budget in budget_list:\n",
    "    movie_details_dic = {\n",
    "        'movie': movie_name,\n",
    "        'budget': budget,\n",
    "        'gross_ww': gross_ww,\n",
    "        'runtime': runtime,\n",
    "        'rating': rating\n",
    "            }\n",
    "    movie_details.append(movie_details_dic)\n",
    "movie_details"
   ]
  },
  {
   "cell_type": "code",
   "execution_count": 62,
   "id": "bdd138b2-8b22-48db-b4e5-075c10eedc56",
   "metadata": {},
   "outputs": [],
   "source": [
    "\n",
    "# {movie: \"Spirited Away\", \n",
    "# link: \"/title/tt0245429/?ref_=sr_t_1\"}"
   ]
  },
  {
   "cell_type": "code",
   "execution_count": null,
   "id": "1e304a72-f591-4bf4-b016-415c53642f73",
   "metadata": {},
   "outputs": [],
   "source": []
  },
  {
   "cell_type": "code",
   "execution_count": null,
   "id": "590beaef-fbbe-4bf6-8169-079ec7e4a471",
   "metadata": {},
   "outputs": [],
   "source": [
    "for link in "
   ]
  },
  {
   "cell_type": "code",
   "execution_count": null,
   "id": "7dcec0bf-0f15-477a-a19a-acd3350ce1b7",
   "metadata": {},
   "outputs": [],
   "source": []
  },
  {
   "cell_type": "code",
   "execution_count": null,
   "id": "af695d8e-b724-41d0-925a-b5ac91459550",
   "metadata": {},
   "outputs": [],
   "source": []
  },
  {
   "cell_type": "code",
   "execution_count": 2,
   "id": "8d010835-5cbb-4f6c-9f98-daa51c97f144",
   "metadata": {},
   "outputs": [],
   "source": [
    "film = 'Eternal Sunshine of the Spotless Mind'\n",
    "# get the ['Movie'] and ['Year'] from dataframe\n",
    "# maybe add a column to combine those?\n",
    "await page.goto(\"https://www.imdb.com/?ref_=nv_home\")\n",
    "# Fill in the search field\n",
    "await page.locator('#suggestion-search').fill(film)"
   ]
  },
  {
   "cell_type": "code",
   "execution_count": 3,
   "id": "c487443f-979b-494b-9d03-bbc216407e22",
   "metadata": {},
   "outputs": [],
   "source": [
    "await page.click('#suggestion-search-button')\n",
    "# Wait for the page to fully load\n",
    "await page.wait_for_load_state('load')"
   ]
  },
  {
   "cell_type": "code",
   "execution_count": 4,
   "id": "0eb4bcd4-7b7e-4213-98e7-30b0d99b0956",
   "metadata": {},
   "outputs": [],
   "source": [
    "# click the first result\n",
    "await page.click('.ipc-metadata-list-summary-item__t')\n",
    "# Wait for the page to fully load after clicking the link\n",
    "await page.wait_for_load_state('load')"
   ]
  },
  {
   "cell_type": "code",
   "execution_count": 6,
   "id": "ebde7e77-18eb-4a06-ac61-9d1919c7dc64",
   "metadata": {},
   "outputs": [],
   "source": [
    "# scrape the page to get HTML, and then use regex\n",
    "# Get: Genres, budget, gross worldwide, runtime, IMDb rating \n",
    "\n",
    "# HTML line for IMDb rating: <span class=\"sc-bde20123-1 cMEQkK\">8.3</span>\n",
    "\n",
    "# HTML for runtime:\n",
    "# <li role=\"presentation\" class=\"ipc-inline-list__item\">1h 48m</li>\n",
    "# <::before></::before>\n",
    "# 1h 48m\n",
    "\n",
    "# HTML for Genres\n",
    "# <div class=\"ipc-metadata-list-item__content-container\"><ul class=\"ipc-inline-list ipc-inline-list--show-dividers ipc-inline-list--inline ipc-metadata-list-item__list-content base\" role=\"presentation\"><li role=\"presentation\" class=\"ipc-inline-list__item\"><a class=\"ipc-metadata-list-item__list-content-item ipc-metadata-list-item__list-content-item--link\" role=\"button\" tabindex=\"0\" aria-disabled=\"false\" href=\"/search/title/?genres=Drama&amp;explore=title_type,genres&amp;ref_=tt_ov_inf\">Drama</a></li><li role=\"presentation\" class=\"ipc-inline-list__item\"><a class=\"ipc-metadata-list-item__list-content-item ipc-metadata-list-item__list-content-item--link\" role=\"button\" tabindex=\"0\" aria-disabled=\"false\" href=\"/search/title/?genres=Romance&amp;explore=title_type,genres&amp;ref_=tt_ov_inf\">Romance</a></li><li role=\"presentation\" class=\"ipc-inline-list__item\"><a class=\"ipc-metadata-list-item__list-content-item ipc-metadata-list-item__list-content-item--link\" role=\"button\" tabindex=\"0\" aria-disabled=\"false\" href=\"/search/title/?genres=Sci-Fi&amp;explore=title_type,genres&amp;ref_=tt_ov_inf\">Sci-Fi</a></li></ul></div>\n",
    "# should probably find all 'li'\n",
    "\n",
    "# HTML for Buget\n",
    "# <span class=\"ipc-metadata-list-item__list-content-item\" aria-disabled=\"false\">$20,000,000 (estimated)</span>\n",
    "\n",
    "# HTML for Gross Worldwide\n",
    "# <span class=\"ipc-metadata-list-item__list-content-item\" aria-disabled=\"false\">$74,036,715</span>"
   ]
  },
  {
   "cell_type": "code",
   "execution_count": 13,
   "id": "5a2c26d3-56d3-44da-90b6-39457a723b5e",
   "metadata": {},
   "outputs": [
    {
     "data": {
      "text/plain": [
       "['20,000,000']"
      ]
     },
     "execution_count": 13,
     "metadata": {},
     "output_type": "execute_result"
    }
   ],
   "source": [
    "import re\n",
    "budget_sample = \"$20,000,000 (estimated)\"\n",
    "regex_for_budget = r\"(\\d+,\\d+,\\d+[,\\d+]?)\"\n",
    "budget = re.findall(regex_for_budget,budget_sample)\n",
    "budget"
   ]
  },
  {
   "cell_type": "code",
   "execution_count": 14,
   "id": "5cdb5005-07cc-472a-9411-8692f54cf468",
   "metadata": {},
   "outputs": [
    {
     "data": {
      "text/plain": [
       "['74,036,715']"
      ]
     },
     "execution_count": 14,
     "metadata": {},
     "output_type": "execute_result"
    }
   ],
   "source": [
    "gross_ww_sample = \"$74,036,715\"\n",
    "regex_for_gross_ww = r\"(\\d+,\\d+,\\d+[,\\d+]?)\"\n",
    "gross_ww = re.findall(regex_for_gross_ww,gross_ww_sample)\n",
    "gross_ww"
   ]
  },
  {
   "cell_type": "code",
   "execution_count": null,
   "id": "d92a5e59-a6a2-4611-83a3-2aa0bf6b07ce",
   "metadata": {},
   "outputs": [],
   "source": []
  },
  {
   "cell_type": "code",
   "execution_count": null,
   "id": "c857af3f-e94b-4b39-95ea-afe819d27f81",
   "metadata": {},
   "outputs": [],
   "source": []
  }
 ],
 "metadata": {
  "kernelspec": {
   "display_name": "Python 3 (ipykernel)",
   "language": "python",
   "name": "python3"
  },
  "language_info": {
   "codemirror_mode": {
    "name": "ipython",
    "version": 3
   },
   "file_extension": ".py",
   "mimetype": "text/x-python",
   "name": "python",
   "nbconvert_exporter": "python",
   "pygments_lexer": "ipython3",
   "version": "3.11.6"
  }
 },
 "nbformat": 4,
 "nbformat_minor": 5
}
